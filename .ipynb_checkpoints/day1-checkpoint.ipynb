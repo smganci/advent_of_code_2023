{
 "cells": [
  {
   "cell_type": "markdown",
   "id": "72572516-b9c6-4fd7-9353-d3b76000e9ef",
   "metadata": {},
   "source": [
    "# Day One"
   ]
  },
  {
   "cell_type": "markdown",
   "id": "953b8d16-6850-4cf5-8099-8e865852b710",
   "metadata": {},
   "source": [
    "### 1. Import Data"
   ]
  },
  {
   "cell_type": "code",
   "execution_count": 26,
   "id": "a18244e8-d5fb-4830-abe5-106273578a42",
   "metadata": {},
   "outputs": [],
   "source": [
    "import pandas as pd\n",
    "\n",
    "# Read text file into a pandas DataFrame\n",
    "day1_data = pd.read_csv('./inputs/aoc2023-1-input.txt', header=None)\n",
    "\n"
   ]
  },
  {
   "cell_type": "markdown",
   "id": "217bee27-92b6-4f62-bfb1-87cddfe8017a",
   "metadata": {},
   "source": [
    "### 2. Define Processing Functions"
   ]
  },
  {
   "cell_type": "code",
   "execution_count": 53,
   "id": "4c2e6d1a-d358-4fd9-9784-80c443eb7d58",
   "metadata": {},
   "outputs": [],
   "source": [
    "def extract_first_digit(input):\n",
    "    for char in input:\n",
    "        if char.isdigit():\n",
    "            return char"
   ]
  },
  {
   "cell_type": "code",
   "execution_count": 54,
   "id": "7e581d36-ef04-4b30-9a08-19eced008812",
   "metadata": {},
   "outputs": [
    {
     "name": "stdout",
     "output_type": "stream",
     "text": [
      "xt36five77\n"
     ]
    }
   ],
   "source": [
    "# test\n",
    "# print(extract_first_digit('xt36five77'))\n",
    "print(day1_data[0][0])"
   ]
  },
  {
   "cell_type": "code",
   "execution_count": 64,
   "id": "766d817a-6e2c-47a9-a8c4-1184d4748665",
   "metadata": {},
   "outputs": [],
   "source": [
    "def extract_calibration(input):\n",
    "    first=extract_first_digit(input)\n",
    "    last=extract_first_digit(reversed(input))\n",
    "    return int(f\"{first}{last}\")"
   ]
  },
  {
   "cell_type": "code",
   "execution_count": 65,
   "id": "43d162ca-ff0f-4ca0-8054-5d40c2cb566c",
   "metadata": {},
   "outputs": [],
   "source": [
    "def day1(input):\n",
    "    total=0;\n",
    "    for index, row in data_frame.iterrows():\n",
    "        total += extract_calibration(input[0][index])\n",
    "\n",
    "    return total\n",
    "        \n",
    "   "
   ]
  },
  {
   "cell_type": "markdown",
   "id": "28c040e4-5128-4366-a580-876a42180119",
   "metadata": {},
   "source": [
    "### 3. Process Data"
   ]
  },
  {
   "cell_type": "code",
   "execution_count": 66,
   "id": "141aded1-3134-4a08-9249-c9030a40278c",
   "metadata": {},
   "outputs": [
    {
     "name": "stdout",
     "output_type": "stream",
     "text": [
      "output: 54573\n"
     ]
    }
   ],
   "source": [
    "output = day1(day1_data)\n",
    "print(f\"output: {output}\")"
   ]
  }
 ],
 "metadata": {
  "kernelspec": {
   "display_name": "Python 3 (ipykernel)",
   "language": "python",
   "name": "python3"
  },
  "language_info": {
   "codemirror_mode": {
    "name": "ipython",
    "version": 3
   },
   "file_extension": ".py",
   "mimetype": "text/x-python",
   "name": "python",
   "nbconvert_exporter": "python",
   "pygments_lexer": "ipython3",
   "version": "3.12.0"
  }
 },
 "nbformat": 4,
 "nbformat_minor": 5
}
