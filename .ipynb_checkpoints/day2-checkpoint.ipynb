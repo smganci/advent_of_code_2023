{
 "cells": [
  {
   "cell_type": "markdown",
   "id": "d197439a-be73-4211-8f1f-a4cc4a03bbe3",
   "metadata": {},
   "source": [
    "# Day 2"
   ]
  },
  {
   "cell_type": "markdown",
   "id": "1b71ed58-843c-4c6d-a83b-e0d096ff4e65",
   "metadata": {},
   "source": [
    "### 1. Import Data"
   ]
  },
  {
   "cell_type": "code",
   "execution_count": null,
   "id": "4f0f92bb-ffcf-44a3-b054-857d9efe06bc",
   "metadata": {},
   "outputs": [],
   "source": [
    "import pandas as pd\n",
    "\n",
    "# Read text file into a pandas DataFrame\n",
    "day2_data = pd.read_csv('./inputs/day2_input.txt', header=None)"
   ]
  },
  {
   "cell_type": "markdown",
   "id": "764c2b62-c4e5-47a6-a997-07d6310c0c4a",
   "metadata": {},
   "source": [
    "### 2. Define Processing Functions"
   ]
  },
  {
   "cell_type": "code",
   "execution_count": null,
   "id": "9dc35dd6-e9f2-40da-9185-b4ff8b33434b",
   "metadata": {},
   "outputs": [],
   "source": []
  },
  {
   "cell_type": "markdown",
   "id": "7129de23-a567-4983-a41e-aa4afa88f5ff",
   "metadata": {},
   "source": [
    "### 3. Process Data"
   ]
  },
  {
   "cell_type": "code",
   "execution_count": null,
   "id": "355a402c-46ac-4873-b005-73064ba58a05",
   "metadata": {},
   "outputs": [],
   "source": []
  }
 ],
 "metadata": {
  "kernelspec": {
   "display_name": "Python 3 (ipykernel)",
   "language": "python",
   "name": "python3"
  },
  "language_info": {
   "codemirror_mode": {
    "name": "ipython",
    "version": 3
   },
   "file_extension": ".py",
   "mimetype": "text/x-python",
   "name": "python",
   "nbconvert_exporter": "python",
   "pygments_lexer": "ipython3",
   "version": "3.12.0"
  }
 },
 "nbformat": 4,
 "nbformat_minor": 5
}
