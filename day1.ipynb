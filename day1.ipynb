{
 "cells": [
  {
   "cell_type": "markdown",
   "id": "72572516-b9c6-4fd7-9353-d3b76000e9ef",
   "metadata": {},
   "source": [
    "# Day One"
   ]
  },
  {
   "cell_type": "markdown",
   "id": "3096519e-68ba-4343-a427-680451c5ae97",
   "metadata": {},
   "source": [
    "## Part 1"
   ]
  },
  {
   "cell_type": "markdown",
   "id": "953b8d16-6850-4cf5-8099-8e865852b710",
   "metadata": {},
   "source": [
    "### 1. Import Data"
   ]
  },
  {
   "cell_type": "code",
   "execution_count": 26,
   "id": "a18244e8-d5fb-4830-abe5-106273578a42",
   "metadata": {},
   "outputs": [],
   "source": [
    "import pandas as pd\n",
    "\n",
    "# Read text file into a pandas DataFrame\n",
    "day1_data = pd.read_csv('./inputs/aoc2023-1-input.txt', header=None)\n",
    "\n"
   ]
  },
  {
   "cell_type": "markdown",
   "id": "217bee27-92b6-4f62-bfb1-87cddfe8017a",
   "metadata": {},
   "source": [
    "### 2. Define Processing Functions"
   ]
  },
  {
   "cell_type": "code",
   "execution_count": 53,
   "id": "4c2e6d1a-d358-4fd9-9784-80c443eb7d58",
   "metadata": {},
   "outputs": [],
   "source": [
    "def extract_first_digit(input):\n",
    "    for char in input:\n",
    "        if char.isdigit():\n",
    "            return char"
   ]
  },
  {
   "cell_type": "code",
   "execution_count": 54,
   "id": "7e581d36-ef04-4b30-9a08-19eced008812",
   "metadata": {},
   "outputs": [
    {
     "name": "stdout",
     "output_type": "stream",
     "text": [
      "xt36five77\n"
     ]
    }
   ],
   "source": [
    "# test\n",
    "# print(extract_first_digit('xt36five77'))\n",
    "print(day1_data[0][0])"
   ]
  },
  {
   "cell_type": "code",
   "execution_count": 64,
   "id": "766d817a-6e2c-47a9-a8c4-1184d4748665",
   "metadata": {},
   "outputs": [],
   "source": [
    "def extract_calibration(input):\n",
    "    first=extract_first_digit(input)\n",
    "    last=extract_first_digit(reversed(input))\n",
    "    return int(f\"{first}{last}\")"
   ]
  },
  {
   "cell_type": "code",
   "execution_count": 65,
   "id": "43d162ca-ff0f-4ca0-8054-5d40c2cb566c",
   "metadata": {},
   "outputs": [],
   "source": [
    "def day1(input):\n",
    "    total=0;\n",
    "    for index, row in data_frame.iterrows():\n",
    "        total += extract_calibration(input[0][index])\n",
    "\n",
    "    return total\n",
    "        \n",
    "   "
   ]
  },
  {
   "cell_type": "markdown",
   "id": "28c040e4-5128-4366-a580-876a42180119",
   "metadata": {},
   "source": [
    "### 3. Process Data"
   ]
  },
  {
   "cell_type": "code",
   "execution_count": 66,
   "id": "141aded1-3134-4a08-9249-c9030a40278c",
   "metadata": {},
   "outputs": [
    {
     "name": "stdout",
     "output_type": "stream",
     "text": [
      "output: 54573\n"
     ]
    }
   ],
   "source": [
    "output = day1(day1_data)\n",
    "print(f\"output: {output}\")"
   ]
  },
  {
   "cell_type": "markdown",
   "id": "b689fff1-81af-4ccd-a605-91daf5c75b27",
   "metadata": {},
   "source": [
    "## Part 2"
   ]
  },
  {
   "cell_type": "markdown",
   "id": "4ef37808-5085-4250-89a0-e03ee85a09df",
   "metadata": {},
   "source": [
    "### 1. Define Additional Methods"
   ]
  },
  {
   "cell_type": "markdown",
   "id": "8be87292-d207-40d6-9c30-0b6796f57dc5",
   "metadata": {},
   "source": [
    "thoughts:\n",
    "detection should now parse out numbers:\n",
    "two1nine\n",
    "limitations: one, two, three, four, five, six, seven, eight, and nine\n",
    "\n",
    "first check if the char is a digit, if is digit, return\n",
    "\n",
    "if char is not a digit, search ahead to see if the next letters make it a match to the numbers\n",
    "\n",
    "if char onward starts with one\n",
    "\n",
    "t\n",
    "okay so now look forward to see if next letter is w or h\n",
    "if next letter is o\n"
   ]
  },
  {
   "cell_type": "code",
   "execution_count": 69,
   "id": "660eea38-318d-4ef2-9df1-81a5b6414b34",
   "metadata": {},
   "outputs": [
    {
     "name": "stdout",
     "output_type": "stream",
     "text": [
      "[{'string': 'one', 'number': 1}, {'string': 'two', 'number': 2}, {'string': 'three', 'number': 3}, {'string': 'four', 'number': 4}, {'string': 'five', 'number': 5}, {'string': 'six', 'number': 6}, {'string': 'seven', 'number': 7}, {'string': 'eight', 'number': 8}, {'string': 'nine', 'number': 9}]\n"
     ]
    }
   ],
   "source": [
    "nums =[\n",
    "            {\n",
    "                'string': \"one\",\n",
    "                'number': 1\n",
    "            },\n",
    "            {\n",
    "                  'string': \"two\",\n",
    "                  'number': 2\n",
    "            },            {\n",
    "                  'string': \"three\",\n",
    "                  'number': 3\n",
    "            },            {\n",
    "                  'string': \"four\",\n",
    "                  'number': 4\n",
    "            },            {\n",
    "                  'string': \"five\",\n",
    "                  'number': 5\n",
    "            },            {\n",
    "                  'string': \"six\",\n",
    "                  'number': 6\n",
    "            },            {\n",
    "                  'string': \"seven\",\n",
    "                  'number': 7\n",
    "            },            {\n",
    "                  'string': \"eight\",\n",
    "                  'number': 8\n",
    "            },            {\n",
    "                  'string': \"nine\",\n",
    "                  'number': 9\n",
    "            },\n",
    "]\n",
    "print(nums)"
   ]
  },
  {
   "cell_type": "code",
   "execution_count": 152,
   "id": "f227256a-7c00-4933-91e8-85295c729245",
   "metadata": {},
   "outputs": [],
   "source": [
    "def compare(input, index, num):\n",
    "    for i, char in enumerate(num):\n",
    "        if(index+i >= len(input) or input[index+i]!=char):\n",
    "            return False\n",
    "    return True"
   ]
  },
  {
   "cell_type": "code",
   "execution_count": 153,
   "id": "7a22d2c2-0757-4ccf-a0b4-7d1ecf7ea4c1",
   "metadata": {},
   "outputs": [
    {
     "name": "stdout",
     "output_type": "stream",
     "text": [
      "True\n"
     ]
    }
   ],
   "source": [
    "# test compare\n",
    "print(compare(\"xt36five77\", 4, 'five'))"
   ]
  },
  {
   "cell_type": "code",
   "execution_count": 154,
   "id": "268f7563-e1f4-4df6-a174-412e23c066ed",
   "metadata": {},
   "outputs": [],
   "source": [
    "def extract_first_digit_2(input, nums):\n",
    "    for index, char in enumerate(input):\n",
    "        if char.isdigit():\n",
    "            return char\n",
    "        # check forward\n",
    "        for num in nums:\n",
    "            if(compare(input, index, num['string'])):\n",
    "                return num['number']\n",
    "            "
   ]
  },
  {
   "cell_type": "code",
   "execution_count": 155,
   "id": "3d5c926b-edef-4fd0-a948-9b41e423034b",
   "metadata": {},
   "outputs": [],
   "source": [
    "def extract_last_digit_2(input, nums):\n",
    "    reversed_input= input[::-1]\n",
    "    for index, char in enumerate(reversed_input):\n",
    "        if char.isdigit():\n",
    "            return char\n",
    "        # check backward string\n",
    "        for num in nums:\n",
    "            rev=  num['string'][::-1]\n",
    "            if(compare(reversed_input, index,rev)):\n",
    "                return num['number']\n",
    "            "
   ]
  },
  {
   "cell_type": "code",
   "execution_count": null,
   "id": "fe8d47b0-8bc3-48cc-926a-51ce731e58a8",
   "metadata": {},
   "outputs": [],
   "source": []
  },
  {
   "cell_type": "code",
   "execution_count": 156,
   "id": "a5569637-893f-4e07-b784-2151a10b337b",
   "metadata": {},
   "outputs": [],
   "source": [
    "def extract_calibration_2(input,nums):\n",
    "    first=extract_first_digit_2(input,nums)\n",
    "    last=extract_last_digit_2(input,nums)\n",
    "    return int(f\"{first}{last}\")"
   ]
  },
  {
   "cell_type": "code",
   "execution_count": 157,
   "id": "ebabed98-cd5b-42fa-aabd-caf7499725da",
   "metadata": {},
   "outputs": [
    {
     "name": "stdout",
     "output_type": "stream",
     "text": [
      "9\n"
     ]
    }
   ],
   "source": [
    "print(extract_last_digit_2('two1nine',nums))"
   ]
  },
  {
   "cell_type": "code",
   "execution_count": null,
   "id": "92d2b46e-a422-41b1-8171-ad1b09ad957d",
   "metadata": {},
   "outputs": [],
   "source": []
  },
  {
   "cell_type": "code",
   "execution_count": 150,
   "id": "c9d1a0a8-1eac-49e4-8e8b-77bf837d06f5",
   "metadata": {},
   "outputs": [],
   "source": [
    "def day1_part2(input,nums):\n",
    "    total=0;\n",
    "    for index, row in data_frame.iterrows():\n",
    "        total += extract_calibration_2(input[0][index],nums)\n",
    "\n",
    "    return total\n",
    "        \n",
    "   "
   ]
  },
  {
   "cell_type": "markdown",
   "id": "c197da89-e71f-4e18-a0ba-9f6eae388f0b",
   "metadata": {},
   "source": [
    "### 2. Process Data"
   ]
  },
  {
   "cell_type": "code",
   "execution_count": 158,
   "id": "a90d739e-ef8c-445b-9c6d-c2ddba1b22aa",
   "metadata": {},
   "outputs": [
    {
     "name": "stdout",
     "output_type": "stream",
     "text": [
      "output: 54591\n"
     ]
    }
   ],
   "source": [
    "output = day1_part2(day1_data,nums)\n",
    "print(f\"output: {output}\")"
   ]
  },
  {
   "cell_type": "code",
   "execution_count": null,
   "id": "0f71678e-d8a0-4680-ad92-3a8f3a5760bb",
   "metadata": {},
   "outputs": [],
   "source": []
  }
 ],
 "metadata": {
  "kernelspec": {
   "display_name": "Python 3 (ipykernel)",
   "language": "python",
   "name": "python3"
  },
  "language_info": {
   "codemirror_mode": {
    "name": "ipython",
    "version": 3
   },
   "file_extension": ".py",
   "mimetype": "text/x-python",
   "name": "python",
   "nbconvert_exporter": "python",
   "pygments_lexer": "ipython3",
   "version": "3.12.0"
  }
 },
 "nbformat": 4,
 "nbformat_minor": 5
}
